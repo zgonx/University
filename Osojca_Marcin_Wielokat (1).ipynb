{
 "cells": [
  {
   "cell_type": "code",
   "execution_count": 5,
   "id": "8f82643c",
   "metadata": {},
   "outputs": [
    {
     "data": {
      "image/png": "[encoded data removed]",
      "text/plain": [
       "<Figure size 432x288 with 1 Axes>"
      ]
     },
     "metadata": {
      "needs_background": "light"
     },
     "output_type": "display_data"
    },
    {
     "data": {
      "image/png": "[encoded data removed]",
      "text/plain": [
       "<Figure size 432x288 with 1 Axes>"
      ]
     },
     "metadata": {
      "needs_background": "light"
     },
     "output_type": "display_data"
    }
   ],
   "source": [
    "import numpy as np\n",
    "import matplotlib.pyplot as plt\n",
    "import math\n",
    "\n",
    "def quadrilateral(m, n, P1, P2, P3, P4, fill=0):\n",
    "    \n",
    "    data=np.zeros((m, n, 3), dtype=np.uint8)\n",
    "    data.fill(255)\n",
    "    \n",
    "    if fill == 1:                                                  ## kwadrat wypelniony\n",
    "        for i in range(min(P1[0], P2[0], P3[0], P4[0]), max(P1[0], P2[0], P3[0], P4[0])):\n",
    "            \n",
    "            for j in range(min(P1[1], P2[1], P3[1], P4[1]), max(P1[1], P2[1], P3[1], P4[1])):\n",
    "                data[j, i] = 0\n",
    "                \n",
    "    elif fill == 0:                                                ## kwadrat niewypelniony\n",
    "        for i in range(min(P1[0], P2[0], P3[0], P4[0]), max(P1[0], P2[0], P3[0], P4[0]) ):\n",
    "        \n",
    "            for j in range(min(P1[1], P2[1], P3[1], P4[1]), max(P1[1], P2[1], P3[1], P4[1])):\n",
    "                    data[j,i] = 0\n",
    "                    \n",
    "        for i in range(min(P1[0], P2[0], P3[0], P4[0])+2, max(P1[0], P2[0], P3[0], P4[0])-2 ):\n",
    "        \n",
    "            for j in range(min(P1[1], P2[1], P3[1], P4[1])+2, max(P1[1], P2[1], P3[1], P4[1])-2):\n",
    "                    data[j,i] = 255                  \n",
    "                \n",
    "\n",
    "                \n",
    "    plt.imshow(data, interpolation='none', aspect=1)\n",
    "    plt.show()\n",
    "    \n",
    "quadrilateral(200, 200, [10,20], [20,50], [60,20], [70,60], fill=1)\n",
    "quadrilateral(200, 200, [10,20], [20,50], [60,20], [70,60], fill=0)"
   ]
  }
 ],
 "metadata": {
  "kernelspec": {
   "display_name": "Python 3 (ipykernel)",
   "language": "python",
   "name": "python3"
  },
  "language_info": {
   "codemirror_mode": {
    "name": "ipython",
    "version": 3
   },
   "file_extension": ".py",
   "mimetype": "text/x-python",
   "name": "python",
   "nbconvert_exporter": "python",
   "pygments_lexer": "ipython3",
   "version": "3.9.5"
  }
 },
 "nbformat": 4,
 "nbformat_minor": 5
}
