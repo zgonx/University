{
 "cells": [
  {
   "cell_type": "code",
   "execution_count": 2,
   "id": "517fc50a",
   "metadata": {},
   "outputs": [
    {
     "data": {
      "image/png": "[encoded data removed]",
      "text/plain": [
       "<Figure size 432x288 with 1 Axes>"
      ]
     },
     "metadata": {
      "needs_background": "light"
     },
     "output_type": "display_data"
    }
   ],
   "source": [
    "import numpy as np\n",
    "import matplotlib.pyplot as plt\n",
    "import time\n",
    "import math\n",
    "\n",
    "def lineAColor(x1,y1,x2,y2,liniaKolor,tloKolor):\n",
    "    A = y2-y1\n",
    "    B = x1-x2\n",
    "    C = x2*y1 - x1*y2\n",
    "\n",
    "    data = np.zeros((100,100,3),dtype =np.uint8)\n",
    "    data[:,:] = tloKolor\n",
    "\n",
    "    for y in range(max(0,min(y1,y2)),min(max(y1,y2)+1,99)):\n",
    "        for x in range(min(x1,x2),max(x1,x2)+1):\n",
    "            d = abs(A*x+ B*y+C)/math.sqrt(A*A+B*B)\n",
    "            if d<1:\n",
    "                data [y,x] =[\n",
    "                int((liniaKolor[0] * (1-d) +tloKolor[0] * d)),\n",
    "                int((liniaKolor[1] * (1-d) +tloKolor[1] * d)),\n",
    "                int((liniaKolor[2] * (1-d) +tloKolor[2] * d))]\n",
    "                \n",
    "    plt.imshow(data,interpolation='none')\n",
    "    \n",
    "lineAColor(5,35,40,65,[139,0,0],[255,255,0])"
   ]
  },
  {
   "cell_type": "code",
   "execution_count": null,
   "id": "457e2c6d",
   "metadata": {},
   "outputs": [],
   "source": []
  },
  {
   "cell_type": "code",
   "execution_count": 24,
   "id": "d4a26af5",
   "metadata": {},
   "outputs": [
    {
     "data": {
      "text/plain": [
       "<matplotlib.image.AxesImage at 0x7fa2213cac40>"
      ]
     },
     "execution_count": 24,
     "metadata": {},
     "output_type": "execute_result"
    },
    {
     "data": {
      "image/png": "[encoded data removed]",
      "text/plain": [
       "<Figure size 432x288 with 1 Axes>"
      ]
     },
     "metadata": {
      "needs_background": "light"
     },
     "output_type": "display_data"
    }
   ],
   "source": [
    "data = np.zeros((100,100,3),dtype =np.uint8)\n",
    "data.fill(255)\n",
    "\n",
    "def anti_alias(x1,x2,y1,y2):\n",
    "    A = (y2-y1)/(x2-x1)\n",
    "    B = -1\n",
    "    C = y2 - A*x2\n",
    "\n",
    "\n",
    "\n",
    "    for y in range(max(0,min(y1,y2)),min(max(y1,y2)+1,99)):\n",
    "        for x in range(min(x1,x2),max(x1,x2)+1):\n",
    "            d = abs(A*x+ B*y+C)/math.sqrt(A*A+B*B)\n",
    "            if d<1:\n",
    "                data [y,x] = 255*d\n",
    "    return data\n",
    "                \n",
    "\n",
    "    \n",
    "anti_alias(5,35,6,65)\n",
    "\n",
    "plt.imshow(data,interpolation='none')"
   ]
  },
  {
   "cell_type": "code",
   "execution_count": 10,
   "id": "7a053583",
   "metadata": {},
   "outputs": [
    {
     "data": {
      "image/png": "[encoded data removed]",
      "text/plain": [
       "<Figure size 432x288 with 1 Axes>"
      ]
     },
     "metadata": {
      "needs_background": "light"
     },
     "output_type": "display_data"
    }
   ],
   "source": [
    "def anti_alias(x1,x2,y1,y2, g):\n",
    "    A = (y2-y1)/(x2-x1)\n",
    "    B = -1\n",
    "    C = y2 - A*x2\n",
    "\n",
    "    data = np.zeros((100,100,3),dtype =np.uint8)\n",
    "    data.fill(255)\n",
    "\n",
    "    for y in range(max(0,min(y1,y2)),min(max(y1,y2)+1,99)):\n",
    "        for x in range(min(x1,x2),max(x1,x2)+1):\n",
    "            d = abs(A*x+ B*y+C)/math.sqrt(A*A+B*B)\n",
    "            # Ustawienie grubości linii na g\n",
    "            if d<1 and (g == 1 or abs(y - round(A*x+C)) < g//2):\n",
    "                data [y,x] = 255*d\n",
    "    plt.imshow(data,interpolation='none')\n",
    "    \n",
    "anti_alias(5,35,6,65, g=12)"
   ]
  }
 ],
 "metadata": {
  "kernelspec": {
   "display_name": "Python 3 (ipykernel)",
   "language": "python",
   "name": "python3"
  },
  "language_info": {
   "codemirror_mode": {
    "name": "ipython",
    "version": 3
   },
   "file_extension": ".py",
   "mimetype": "text/x-python",
   "name": "python",
   "nbconvert_exporter": "python",
   "pygments_lexer": "ipython3",
   "version": "3.9.5"
  }
 },
 "nbformat": 4,
 "nbformat_minor": 5
}
