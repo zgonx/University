{
 "cells": [
  {
   "cell_type": "code",
   "execution_count": 2,
   "id": "380528e7",
   "metadata": {},
   "outputs": [
    {
     "name": "stdout",
     "output_type": "stream",
     "text": [
      "-0.9473684210526315\n"
     ]
    },
    {
     "data": {
      "image/png": "[encoded data removed]",
      "text/plain": [
       "<Figure size 432x288 with 1 Axes>"
      ]
     },
     "metadata": {
      "needs_background": "light"
     },
     "output_type": "display_data"
    },
    {
     "name": "stdout",
     "output_type": "stream",
     "text": [
      "-0.7380952380952381\n"
     ]
    },
    {
     "data": {
      "image/png": "[encoded data removed]",
      "text/plain": [
       "<Figure size 432x288 with 1 Axes>"
      ]
     },
     "metadata": {
      "needs_background": "light"
     },
     "output_type": "display_data"
    },
    {
     "name": "stdout",
     "output_type": "stream",
     "text": [
      "-0.8181818181818182\n"
     ]
    },
    {
     "data": {
      "image/png": "[encoded data removed]",
      "text/plain": [
       "<Figure size 432x288 with 1 Axes>"
      ]
     },
     "metadata": {
      "needs_background": "light"
     },
     "output_type": "display_data"
    },
    {
     "name": "stdout",
     "output_type": "stream",
     "text": [
      "0.4444444444444444\n"
     ]
    },
    {
     "data": {
      "image/png": "[encoded data removed]",
      "text/plain": [
       "<Figure size 432x288 with 1 Axes>"
      ]
     },
     "metadata": {
      "needs_background": "light"
     },
     "output_type": "display_data"
    },
    {
     "name": "stdout",
     "output_type": "stream",
     "text": [
      "0.4444444444444444\n"
     ]
    },
    {
     "data": {
      "image/png": "[encoded data removed]",
      "text/plain": [
       "<Figure size 432x288 with 1 Axes>"
      ]
     },
     "metadata": {
      "needs_background": "light"
     },
     "output_type": "display_data"
    },
    {
     "data": {
      "image/png": "[encoded data removed]",
      "text/plain": [
       "<Figure size 432x288 with 1 Axes>"
      ]
     },
     "metadata": {
      "needs_background": "light"
     },
     "output_type": "display_data"
    }
   ],
   "source": [
    "import numpy as np\n",
    "import matplotlib.pyplot as plt\n",
    "\n",
    "\n",
    "def liniaN(x1, y1, x2, y2):\n",
    "    data=np.zeros((100,100,3), dtype=np.uint8)\n",
    "    data.fill(255)\n",
    "    \n",
    "#jezeli odcinek jest punktem\n",
    "    if x1==x2 and y1==y2:\n",
    "        data[x1,y1]=100\n",
    "        \n",
    "    else:\n",
    "        if abs(x2-x1)>abs(y2-y1):\n",
    "            a = (y2-y1)/(x2-x1)\n",
    "            if x1>x2:\n",
    "                x1,x2 = x2,x1\n",
    "                y1,y2 = y2,y1\n",
    "            for x in range(x1,x2):\n",
    "                y = round(y1+a*(x-x1))\n",
    "#                 print(\"x\",x,\"y\",y)\n",
    "                data[y,x]=100\n",
    "        else:\n",
    "            a=(x2-x1)/(y2-y1)\n",
    "            if y1>y2:\n",
    "                x1,x2 = x2,x1\n",
    "                y1,y2 = y2,y1\n",
    "            for y in range(y1,y2):\n",
    "                x = round(x1+a*(y-y1))\n",
    "#                 print(x,y)\n",
    "                data[y,x]=100\n",
    "        print(a)\n",
    "            \n",
    "    plt.imshow(data, interpolation='none', aspect=1)\n",
    "    plt.show()\n",
    "    \n",
    "            \n",
    "liniaN(51,19,13,55)\n",
    "liniaN(13,99,55,68)\n",
    "liniaN(15,30,37,12)\n",
    "liniaN(90,90,0,50)\n",
    "liniaN(0,50,90,90)\n",
    "liniaN(50,50,50,50)"
   ]
  },
  {
   "cell_type": "code",
   "execution_count": 1,
   "id": "e3cfaef9",
   "metadata": {},
   "outputs": [
    {
     "data": {
      "text/plain": [
       "2"
      ]
     },
     "execution_count": 1,
     "metadata": {},
     "output_type": "execute_result"
    }
   ],
   "source": [
    "a = [1,2]\n",
    "len(a)"
   ]
  }
 ],
 "metadata": {
  "kernelspec": {
   "display_name": "Python 3 (ipykernel)",
   "language": "python",
   "name": "python3"
  },
  "language_info": {
   "codemirror_mode": {
    "name": "ipython",
    "version": 3
   },
   "file_extension": ".py",
   "mimetype": "text/x-python",
   "name": "python",
   "nbconvert_exporter": "python",
   "pygments_lexer": "ipython3",
   "version": "3.9.5"
  }
 },
 "nbformat": 4,
 "nbformat_minor": 5
}
