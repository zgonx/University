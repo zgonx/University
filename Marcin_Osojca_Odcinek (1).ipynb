{
 "cells": [
  {
   "cell_type": "code",
   "execution_count": 1,
   "id": "ae0dbcc8",
   "metadata": {},
   "outputs": [
    {
     "data": {
      "text/plain": [
       "<matplotlib.image.AxesImage at 0x7fa2e618d430>"
      ]
     },
     "execution_count": 1,
     "metadata": {},
     "output_type": "execute_result"
    },
    {
     "data": {
      "image/png": "[encoded data removed]",
      "text/plain": [
       "<Figure size 432x288 with 1 Axes>"
      ]
     },
     "metadata": {
      "needs_background": "light"
     },
     "output_type": "display_data"
    }
   ],
   "source": [
    "import numpy as np\n",
    "import matplotlib.pyplot as plt\n",
    "import math\n",
    "\n",
    "data=np.zeros((200,200,3), dtype=np.uint8)\n",
    "data.fill(255)\n",
    "\n",
    "\n",
    "def liniaN(x1, y1, x2, y2, g=1):\n",
    "#jezeli odcinek jest punktem\n",
    "    if x1==x2 and y1==y2:\n",
    "        data[x1,y1]=0\n",
    "        \n",
    "    else:\n",
    "        if abs(x2-x1)>abs(y2-y1):\n",
    "            a = (y2-y1)/(x2-x1)\n",
    "            if x1>x2:\n",
    "                x1,x2 = x2,x1\n",
    "                y1,y2 = y2,y1\n",
    "            for x in range(x1,x2):\n",
    "                y = round(y1+a*(x-x1))\n",
    "                if g == 1:\n",
    "                    data[y,x]=0\n",
    "                else:\n",
    "                    for i in range(-g//2, g//2):\n",
    "                        data[y+i, x]=0\n",
    "        else:\n",
    "            a=(x2-x1)/(y2-y1)\n",
    "            if y1>y2:\n",
    "                x1,x2 = x2,x1\n",
    "                y1,y2 = y2,y1\n",
    "            for y in range(y1,y2):\n",
    "                x = round(x1+a*(y-y1))\n",
    "                if g == 1:\n",
    "                    data[y,x]=0\n",
    "                else:\n",
    "                    for i in range(-g//2, g//2):\n",
    "                        data[y+i, x]=0\n",
    "    \n",
    "def anti_alias(x1,x2,y1,y2):\n",
    "    A = (y2-y1)/(x2-x1)\n",
    "    B = -1\n",
    "    C = y2 - A*x2\n",
    "\n",
    "\n",
    "\n",
    "    for y in range(max(0,min(y1,y2)),min(max(y1,y2)+1,99)):\n",
    "        for x in range(min(x1,x2),max(x1,x2)+1):\n",
    "            d = abs(A*x+ B*y+C)/math.sqrt(A*A+B*B)\n",
    "            if d<1:\n",
    "                data [y,x] = 255*d\n",
    "    return data\n",
    "                \n",
    "\n",
    "\n",
    "def linePZ(P1, P2, d, RGB):\n",
    "    \n",
    "    x1, x2 = P1\n",
    "    y1, y2 = P2\n",
    "\n",
    "    liniaN(x1,y1,x2,y2,d)\n",
    "    \n",
    "    return data\n",
    "\n",
    "def linePZA(P1, P2, d, RGB):\n",
    "    for i in range(0,1):\n",
    "        \n",
    "        x1, x2 = P1\n",
    "        y1, y2 = P2\n",
    "        c = d/2\n",
    "        \n",
    "        if c%2 == 0:\n",
    "            c = int(c)\n",
    "            anti_alias(x1,x2,y1+c,y2+c)\n",
    "            anti_alias(x1,x2,y1-c,y2-c)\n",
    "        else:\n",
    "            c = int(c)\n",
    "            anti_alias(x1,x2,y1+c,y2+c)\n",
    "            c += 1\n",
    "            anti_alias(x1,x2,y1-c,y2-c)\n",
    "    \n",
    "    liniaN(x1,y1,x2,y2,d)\n",
    "    \n",
    "\n",
    "    return data\n",
    "    \n",
    "linePZA((8,150),(20,30),4,data)\n",
    "\n",
    "plt.imshow(data,interpolation='none')\n",
    "\n",
    "# linePZ((8,150),(20,30),4,data)\n",
    "\n",
    "# plt.imshow(data,interpolation='none')"
   ]
  }
 ],
 "metadata": {
  "kernelspec": {
   "display_name": "Python 3 (ipykernel)",
   "language": "python",
   "name": "python3"
  },
  "language_info": {
   "codemirror_mode": {
    "name": "ipython",
    "version": 3
   },
   "file_extension": ".py",
   "mimetype": "text/x-python",
   "name": "python",
   "nbconvert_exporter": "python",
   "pygments_lexer": "ipython3",
   "version": "3.9.5"
  }
 },
 "nbformat": 4,
 "nbformat_minor": 5
}
