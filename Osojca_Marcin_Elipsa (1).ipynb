{
 "cells": [
  {
   "cell_type": "code",
   "execution_count": 1,
   "id": "97e54088",
   "metadata": {},
   "outputs": [
    {
     "data": {
      "image/png": "[encoded data removed]",
      "text/plain": [
       "<Figure size 432x288 with 1 Axes>"
      ]
     },
     "metadata": {
      "needs_background": "light"
     },
     "output_type": "display_data"
    },
    {
     "data": {
      "image/png": "[encoded data removed]",
      "text/plain": [
       "<Figure size 432x288 with 1 Axes>"
      ]
     },
     "metadata": {
      "needs_background": "light"
     },
     "output_type": "display_data"
    }
   ],
   "source": [
    "import numpy as np\n",
    "import matplotlib.pyplot as plt\n",
    "\n",
    "def elipse(n, m, O, a, b, fill = 1):\n",
    "    data=np.zeros((n,m, 3), dtype=np.uint8)\n",
    "    data.fill(255)\n",
    "    x = O[0]\n",
    "    y = O[1]\n",
    "    d = b**2*(x+1)**2 + (a**2)*(y-0.5)**2 - (a**2)*(b**2)\n",
    "    for i in range(n):\n",
    "        for j in range(m):\n",
    "            if fill == 0 :\n",
    "                xx = j - x\n",
    "                yy = i - y\n",
    "                if xx*xx/(a**2) +yy*yy/(b**2) < 1 and xx*xx/(a**2 - 2*a) +yy*yy/(b**2 - 2*b) > 1:\n",
    "                    data[i][j] = 0\n",
    "            elif fill == 1:\n",
    "                xx = j - x\n",
    "                yy = i - y\n",
    "                if (((i-x)**2)/(b**2)+((j-y)**2)/(a**2) <= 1):\n",
    "                    data[i][j] = [0,0,0]\n",
    "    return data\n",
    "\n",
    "    plt.imshow(data, interpolation='none', aspect=1)\n",
    "    plt.show()\n",
    "\n",
    "\n",
    "\n",
    "plt.imshow(elipse(250,250,[100,100],50,80,1), interpolation='none', aspect=1)\n",
    "plt.show()\n",
    "\n",
    "\n",
    "plt.imshow(elipse(250,250,[100,100],50,80,0), interpolation='none', aspect=1)\n",
    "plt.show()"
   ]
  }
 ],
 "metadata": {
  "kernelspec": {
   "display_name": "Python 3 (ipykernel)",
   "language": "python",
   "name": "python3"
  },
  "language_info": {
   "codemirror_mode": {
    "name": "ipython",
    "version": 3
   },
   "file_extension": ".py",
   "mimetype": "text/x-python",
   "name": "python",
   "nbconvert_exporter": "python",
   "pygments_lexer": "ipython3",
   "version": "3.9.5"
  }
 },
 "nbformat": 4,
 "nbformat_minor": 5
}
