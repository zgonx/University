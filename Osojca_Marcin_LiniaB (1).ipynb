{
 "cells": [
  {
   "cell_type": "code",
   "execution_count": 1,
   "id": "0991c5b9",
   "metadata": {},
   "outputs": [
    {
     "name": "stdout",
     "output_type": "stream",
     "text": [
      "5.936622619628906e-05\n"
     ]
    },
    {
     "data": {
      "image/png": "[encoded data removed]",
      "text/plain": [
       "<Figure size 432x288 with 1 Axes>"
      ]
     },
     "metadata": {
      "needs_background": "light"
     },
     "output_type": "display_data"
    },
    {
     "name": "stdout",
     "output_type": "stream",
     "text": [
      "Czas funkcji liniaB wynosi:  0.12482190132141113 sek\n"
     ]
    },
    {
     "ename": "NameError",
     "evalue": "name 'liniaN' is not defined",
     "output_type": "error",
     "traceback": [
      "\u001b[0;31m---------------------------------------------------------------------------\u001b[0m",
      "\u001b[0;31mNameError\u001b[0m                                 Traceback (most recent call last)",
      "\u001b[0;32m/tmp/ipykernel_2192897/1601774943.py\u001b[0m in \u001b[0;36m<module>\u001b[0;34m\u001b[0m\n\u001b[1;32m     42\u001b[0m \u001b[0mprint\u001b[0m\u001b[0;34m(\u001b[0m\u001b[0;34m\"Czas funkcji liniaB wynosi: \"\u001b[0m\u001b[0;34m,\u001b[0m \u001b[0mend\u001b[0m \u001b[0;34m-\u001b[0m \u001b[0mstart\u001b[0m \u001b[0;34m,\u001b[0m \u001b[0;34m\"sek\"\u001b[0m \u001b[0;34m)\u001b[0m\u001b[0;34m\u001b[0m\u001b[0;34m\u001b[0m\u001b[0m\n\u001b[1;32m     43\u001b[0m \u001b[0mstart\u001b[0m \u001b[0;34m=\u001b[0m \u001b[0mtime\u001b[0m\u001b[0;34m.\u001b[0m\u001b[0mtime\u001b[0m\u001b[0;34m(\u001b[0m\u001b[0;34m)\u001b[0m\u001b[0;34m\u001b[0m\u001b[0;34m\u001b[0m\u001b[0m\n\u001b[0;32m---> 44\u001b[0;31m \u001b[0mliniaN\u001b[0m\u001b[0;34m(\u001b[0m\u001b[0;36m51\u001b[0m\u001b[0;34m,\u001b[0m\u001b[0;36m19\u001b[0m\u001b[0;34m,\u001b[0m\u001b[0;36m13\u001b[0m\u001b[0;34m,\u001b[0m\u001b[0;36m55\u001b[0m\u001b[0;34m)\u001b[0m\u001b[0;34m\u001b[0m\u001b[0;34m\u001b[0m\u001b[0m\n\u001b[0m\u001b[1;32m     45\u001b[0m \u001b[0mend\u001b[0m \u001b[0;34m=\u001b[0m \u001b[0mtime\u001b[0m\u001b[0;34m.\u001b[0m\u001b[0mtime\u001b[0m\u001b[0;34m(\u001b[0m\u001b[0;34m)\u001b[0m\u001b[0;34m\u001b[0m\u001b[0;34m\u001b[0m\u001b[0m\n\u001b[1;32m     46\u001b[0m \u001b[0mprint\u001b[0m\u001b[0;34m(\u001b[0m\u001b[0;34m\"Czas funkcji liniaN wynosi: \"\u001b[0m\u001b[0;34m,\u001b[0m \u001b[0mend\u001b[0m \u001b[0;34m-\u001b[0m \u001b[0mstart\u001b[0m \u001b[0;34m,\u001b[0m \u001b[0;34m\"sek\"\u001b[0m \u001b[0;34m)\u001b[0m\u001b[0;34m\u001b[0m\u001b[0;34m\u001b[0m\u001b[0m\n",
      "\u001b[0;31mNameError\u001b[0m: name 'liniaN' is not defined"
     ]
    }
   ],
   "source": [
    "import numpy as np\n",
    "import matplotlib.pyplot as plt\n",
    "import time\n",
    "\n",
    "start = time.time()\n",
    "\n",
    "end = time.time()\n",
    "print(end - start)\n",
    "\n",
    "def liniaB(x1, y1, x2, y2):\n",
    "    data=np.zeros((100,100,3), dtype=np.uint8)\n",
    "    data.fill(255)\n",
    "    \n",
    "#jezeli odcinek jest punktem\n",
    "    if x1==x2 and y1==y2:\n",
    "        data[x1,y1]=100\n",
    "        \n",
    "    else:\n",
    "        if x1>x2:\n",
    "            x1,x2 = x2,x1\n",
    "            y1,y2 = y2,y1\n",
    "        dx = x2 - x1\n",
    "        dy = y2 - y1\n",
    "        D = 2 * dy - dx\n",
    "        y = y1\n",
    "        \n",
    "        for x in range(x1,x2):\n",
    "            data[x,y] = 100\n",
    "            if D > 0:\n",
    "                y = y + 1\n",
    "                D = D - 2 * dx\n",
    "            D = D + 2 * dy\n",
    "        \n",
    "\n",
    "            \n",
    "    plt.imshow(data, interpolation='none', aspect=1)\n",
    "    plt.show()\n",
    "    \n",
    "start = time.time()         \n",
    "liniaB(51,19,13,55)\n",
    "end = time.time()\n",
    "print(\"Czas funkcji liniaB wynosi: \", end - start , \"sek\" )\n",
    "start = time.time()\n",
    "liniaN(51,19,13,55)\n",
    "end = time.time()\n",
    "print(\"Czas funkcji liniaN wynosi: \", end - start , \"sek\" )\n",
    "# liniaB(13,99,55,68)\n",
    "# liniaB(15,30,37,12)\n",
    "# liniaB(90,90,0,50)\n",
    "# liniaN(90,90,0,50)\n",
    "# time\n",
    "# liniaB(0,50,90,90)\n",
    "# liniaB(50,50,50,50)\n",
    "\n",
    "# liniaN(51,19,13,55)\n",
    "# liniaN(13,99,55,68)\n",
    "# liniaN(15,30,37,12)\n",
    "# liniaN(90,90,0,50)\n",
    "# liniaN(0,50,90,90)\n",
    "# liniaN(50,50,50,50)"
   ]
  },
  {
   "cell_type": "code",
   "execution_count": 20,
   "id": "67e5ccd8",
   "metadata": {},
   "outputs": [
    {
     "data": {
      "image/png": "[encoded data removed]",
      "text/plain": [
       "<Figure size 432x288 with 1 Axes>"
      ]
     },
     "metadata": {
      "needs_background": "light"
     },
     "output_type": "display_data"
    }
   ],
   "source": [
    "import numpy as np\n",
    "import matplotlib.pyplot as plt\n",
    "import time\n",
    "data=np.zeros((100,100,3), dtype=np.uint8)\n",
    "data.fill(255)\n",
    "\n",
    "def liniaB(x1, y1, x2, y2):\n",
    "    \n",
    "    \n",
    "#jezeli odcinek jest punktem\n",
    "    if x1==x2 and y1==y2:\n",
    "        data[x1,y1]=100\n",
    "        \n",
    "    else:\n",
    "        if x1>x2:\n",
    "            x1,x2 = x2,x1\n",
    "            y1,y2 = y2,y1\n",
    "        dx = x2 - x1\n",
    "        dy = y2 - y1\n",
    "        D = 2 * dy - dx\n",
    "        y = y1\n",
    "        \n",
    "        for x in range(x1,x2):\n",
    "            data[x,y] = 100\n",
    "            if D > 0:\n",
    "                y = y + 1\n",
    "                D = D - 2 * dx\n",
    "            D = D + 2 * dy\n",
    "            \n",
    "    plt.imshow(data, interpolation='none', aspect=1)\n",
    "\n",
    "\n",
    "liniaB(5,35,80,65)\n",
    "liniaB(50,80,80,65)\n",
    "liniaB(5,35,50,80)"
   ]
  },
  {
   "cell_type": "code",
   "execution_count": 3,
   "id": "1cb7293b",
   "metadata": {},
   "outputs": [
    {
     "data": {
      "image/png": "[encoded data removed]",
      "text/plain": [
       "<Figure size 432x288 with 1 Axes>"
      ]
     },
     "metadata": {
      "needs_background": "light"
     },
     "output_type": "display_data"
    }
   ],
   "source": [
    "import math\n",
    "def anti_alias(x1,x2,y1,y2):\n",
    "    A = (y2-y1)/(x2-x1)\n",
    "    B = -1\n",
    "    C = y2 - A*x2\n",
    "\n",
    "    data = np.zeros((100,100,3),dtype =np.uint8)\n",
    "    data.fill(255)\n",
    "\n",
    "    for y in range(max(0,min(y1,y2)),min(max(y1,y2)+1,99)):\n",
    "        for x in range(min(x1,x2),max(x1,x2)+1):\n",
    "            d = abs(A*x+ B*y+C)/math.sqrt(A*A+B*B)\n",
    "            if d<1:\n",
    "                data [y,x] = 255*d\n",
    "    plt.imshow(data,interpolation='none')\n",
    "    \n",
    "anti_alias(5,35,6,65)"
   ]
  },
  {
   "cell_type": "code",
   "execution_count": 34,
   "id": "7eb61f8d",
   "metadata": {},
   "outputs": [
    {
     "data": {
      "image/png": "[encoded data removed]",
      "text/plain": [
       "<Figure size 432x288 with 1 Axes>"
      ]
     },
     "metadata": {
      "needs_background": "light"
     },
     "output_type": "display_data"
    }
   ],
   "source": [
    "data = np.zeros((200,200,3),dtype =np.uint8)\n",
    "data[:,:] = [255,255,0]\n",
    "    \n",
    "def lineAColor(x1,y1,x2,y2,liniaKolor,tloKolor):\n",
    "    A = y2-y1\n",
    "    B = x1-x2\n",
    "    C = x2*y1 - x1*y2\n",
    "\n",
    "    \n",
    "\n",
    "    for y in range(max(0,min(y1,y2)),min(max(y1,y2)+1,99)):\n",
    "        for x in range(min(x1,x2),max(x1,x2)+1):\n",
    "            d = abs(A*x+ B*y+C)/math.sqrt(A*A+B*B)\n",
    "            if d<1:\n",
    "                data [y,x] =[\n",
    "                int((liniaKolor[0] * (1-d) +tloKolor[0] * d)),\n",
    "                int((liniaKolor[1] * (1-d) +tloKolor[1] * d)),\n",
    "                int((liniaKolor[2] * (1-d) +tloKolor[2] * d))]\n",
    "                \n",
    "    plt.imshow(data,interpolation='none')\n",
    "    \n",
    "lineAColor(8,20,150,90,[139,0,0],[255,255,0])\n",
    "lineAColor(150,30,150,90,[139,0,0],[255,255,0])\n",
    "lineAColor(8,20,150,30,[139,0,0],[255,255,0])\n",
    "\n",
    "\n"
   ]
  },
  {
   "cell_type": "code",
   "execution_count": 43,
   "id": "1f224675",
   "metadata": {},
   "outputs": [
    {
     "data": {
      "image/png": "[encoded data removed]",
      "text/plain": [
       "<Figure size 432x288 with 1 Axes>"
      ]
     },
     "metadata": {
      "needs_background": "light"
     },
     "output_type": "display_data"
    }
   ],
   "source": [
    "import numpy as np\n",
    "import matplotlib.pyplot as plt\n",
    "import math\n",
    "\n",
    "def _fpart(x):\n",
    "    return x - int(x)\n",
    "\n",
    "def _rfpart(x):\n",
    "    return 1 - _fpart(x)\n",
    "\n",
    "def _round(x): \n",
    "    return int(np.floor(x+0.5)) \n",
    "\n",
    "\n",
    "def putpixel(data, x, y, color, alpha=1.0): \n",
    "#     print(data,x, y,color) \n",
    "    x = int(x) \n",
    "    y = int(y) \n",
    "    bg = data [y][x] \n",
    "    if(alpha>1.0): \n",
    "        alpha=1. \n",
    "    color2 = [0.0, 0.0 ,0.0 ] \n",
    "    color2[0] = alpha * color[0] + (1.0 - alpha) *bg[0] \n",
    "    color2[1] = alpha * color[1] + (1.0 - alpha) *bg[1] \n",
    "    color2[2] = alpha * color[2] + (1.0 - alpha) *bg[2] \n",
    "    data[y, x] = color2\n",
    "    \n",
    "def drawXWline(x1, y1, x2, y2, color):\n",
    "# def lineXWcolor(data, x1, y1, x2, y2, color):\n",
    "    \n",
    "    data = np.zeros((100,100,3),dtype =np.uint8)\n",
    "    for i in range(100):\n",
    "        data[:, i] = i*255/100\n",
    "    dx = x2 - x1\n",
    "    dy = y2 - y1\n",
    "    steep = abs(dx) < abs(dy)\n",
    "    \n",
    "    if steep:\n",
    "        x1, y1, x2, y2, dx, dy = y1, x1, y2, x2, dy, dx\n",
    "    if x2 < x1:\n",
    "        x1, x2, y1, y2 = x2, x1, y2, y1\n",
    "\n",
    "    gradient = dy/dx\n",
    "    \n",
    "    xend = round(x1)\n",
    "    yend = y1 + gradient * (xend - x1)\n",
    "    \n",
    "    xgap = _rfpart(x1+0.5)\n",
    "    xpxl1 = xend\n",
    "    ypxl1 = math.floor(yend)\n",
    "    \n",
    "    if steep:\n",
    "        putpixel(data,ypxl1, xpxl1, color, _rfpart(yend) * xgap)\n",
    "        putpixel(data,ypxl1+1,xpxl1,color, _fpart(yend)*xgap)\n",
    "    else:\n",
    "        putpixel(data,xpxl1, ypxl1, color, _rfpart(yend) *xgap) \n",
    "        putpixel(data,xpxl1,ypxl1+1,color, _fpart(yend)*xgap)\n",
    "    \n",
    "    intery = yend + gradient\n",
    "    xend = round(x2)\n",
    "    yend = y2 + gradient * (xend - x2)\n",
    "    xgap = _rfpart(x2+0.5)\n",
    "    xpxl2 = xend\n",
    "    ypxl2 = math.floor(yend)\n",
    "    \n",
    "    if steep:\n",
    "        putpixel(data,ypxl2, xpxl2, color, _rfpart(yend) * xgap)\n",
    "        putpixel(data,ypxl2+1, xpxl2, color, _fpart(yend) * xgap)\n",
    "    else:\n",
    "        putpixel(data,xpxl2, ypxl2, color, _rfpart(yend) * xgap)\n",
    "        putpixel(data,xpxl2, ypxl2+1, color, _fpart(yend) * xgap)\n",
    "        \n",
    "    if steep:\n",
    "        for x in range( xpxl1 + 1, xpxl2 -1): \n",
    "            putpixel(data,math.floor(intery), x, color, _rfpart(intery))\n",
    "            putpixel(data,math.floor(intery) + 1, x, color, _fpart(intery))\n",
    "            intery = intery + gradient\n",
    "    else:\n",
    "        for x in range( xpxl1 + 1, xpxl2 -1): \n",
    "            putpixel(data,x, math.floor(intery), color, _rfpart(intery))\n",
    "            putpixel(data,x, math.floor(intery) + 1, color, _fpart(intery))\n",
    "            intery = intery + gradient\n",
    "    plt.imshow(data,interpolation='none')\n",
    "    \n",
    "data = np.zeros((100,100,3),dtype =np.uint8)\n",
    "# plt.imshow(data,interpolation='none')\n",
    "\n",
    "# print(data)\n",
    "# lineXWcolor(data,1,10,15,20,[139,0,0])\n",
    "drawXWline(5,10,80,20,[255,0,0])\n",
    "\n",
    "\n",
    "\n"
   ]
  }
 ],
 "metadata": {
  "kernelspec": {
   "display_name": "Python 3 (ipykernel)",
   "language": "python",
   "name": "python3"
  },
  "language_info": {
   "codemirror_mode": {
    "name": "ipython",
    "version": 3
   },
   "file_extension": ".py",
   "mimetype": "text/x-python",
   "name": "python",
   "nbconvert_exporter": "python",
   "pygments_lexer": "ipython3",
   "version": "3.9.5"
  }
 },
 "nbformat": 4,
 "nbformat_minor": 5
}
